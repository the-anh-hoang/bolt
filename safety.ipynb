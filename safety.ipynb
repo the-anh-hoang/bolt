{
 "cells": [
  {
   "cell_type": "code",
   "execution_count": 17,
   "metadata": {},
   "outputs": [],
   "source": [
    "import pandas as pd \n",
    "import numpy as np\n",
    "import matplotlib.pyplot as plt\n",
    "import seaborn as sns"
   ]
  },
  {
   "cell_type": "code",
   "execution_count": 18,
   "metadata": {},
   "outputs": [
    {
     "data": {
      "text/html": [
       "<div>\n",
       "<style scoped>\n",
       "    .dataframe tbody tr th:only-of-type {\n",
       "        vertical-align: middle;\n",
       "    }\n",
       "\n",
       "    .dataframe tbody tr th {\n",
       "        vertical-align: top;\n",
       "    }\n",
       "\n",
       "    .dataframe thead th {\n",
       "        text-align: right;\n",
       "    }\n",
       "</style>\n",
       "<table border=\"1\" class=\"dataframe\">\n",
       "  <thead>\n",
       "    <tr style=\"text-align: right;\">\n",
       "      <th></th>\n",
       "      <th>Incident_ID</th>\n",
       "      <th>Customer_ID</th>\n",
       "      <th>Age</th>\n",
       "      <th>Gender</th>\n",
       "      <th>Season</th>\n",
       "      <th>Weather</th>\n",
       "      <th>Activity</th>\n",
       "      <th>Slope_Name</th>\n",
       "      <th>Slope_Difficulty</th>\n",
       "      <th>Skill_Level</th>\n",
       "      <th>Protective_Gear</th>\n",
       "      <th>Injuries</th>\n",
       "      <th>Response_Time</th>\n",
       "      <th>Hospital_Transport</th>\n",
       "      <th>Hospital_Stay_Length</th>\n",
       "      <th>Severity_Category</th>\n",
       "    </tr>\n",
       "  </thead>\n",
       "  <tbody>\n",
       "    <tr>\n",
       "      <th>0</th>\n",
       "      <td>0</td>\n",
       "      <td>2679</td>\n",
       "      <td>33</td>\n",
       "      <td>Male</td>\n",
       "      <td>Winter</td>\n",
       "      <td>Foggy</td>\n",
       "      <td>Skiing</td>\n",
       "      <td>Bunny Hill</td>\n",
       "      <td>Easy</td>\n",
       "      <td>Beginner</td>\n",
       "      <td>Helmet</td>\n",
       "      <td>Sprain</td>\n",
       "      <td>15</td>\n",
       "      <td>No</td>\n",
       "      <td>0</td>\n",
       "      <td>Medium</td>\n",
       "    </tr>\n",
       "    <tr>\n",
       "      <th>1</th>\n",
       "      <td>1</td>\n",
       "      <td>4257</td>\n",
       "      <td>36</td>\n",
       "      <td>Female</td>\n",
       "      <td>Summer</td>\n",
       "      <td>Sunny</td>\n",
       "      <td>Hiking</td>\n",
       "      <td>Devil’s Drop</td>\n",
       "      <td>Expert</td>\n",
       "      <td>Beginner</td>\n",
       "      <td>Helmet</td>\n",
       "      <td>Fracture</td>\n",
       "      <td>23</td>\n",
       "      <td>No</td>\n",
       "      <td>0</td>\n",
       "      <td>Medium</td>\n",
       "    </tr>\n",
       "    <tr>\n",
       "      <th>2</th>\n",
       "      <td>2</td>\n",
       "      <td>7924</td>\n",
       "      <td>47</td>\n",
       "      <td>Female</td>\n",
       "      <td>Winter</td>\n",
       "      <td>Foggy</td>\n",
       "      <td>Snowboarding</td>\n",
       "      <td>Thunder Run</td>\n",
       "      <td>Advanced</td>\n",
       "      <td>Beginner</td>\n",
       "      <td>Helmet</td>\n",
       "      <td>Sprain</td>\n",
       "      <td>13</td>\n",
       "      <td>Yes</td>\n",
       "      <td>1</td>\n",
       "      <td>Critical</td>\n",
       "    </tr>\n",
       "    <tr>\n",
       "      <th>3</th>\n",
       "      <td>3</td>\n",
       "      <td>7224</td>\n",
       "      <td>56</td>\n",
       "      <td>Male</td>\n",
       "      <td>Summer</td>\n",
       "      <td>Sunny</td>\n",
       "      <td>Hiking</td>\n",
       "      <td>Thunder Run</td>\n",
       "      <td>Advanced</td>\n",
       "      <td>Intermediate</td>\n",
       "      <td>Helmet</td>\n",
       "      <td>Fracture</td>\n",
       "      <td>9</td>\n",
       "      <td>No</td>\n",
       "      <td>0</td>\n",
       "      <td>Medium</td>\n",
       "    </tr>\n",
       "    <tr>\n",
       "      <th>4</th>\n",
       "      <td>4</td>\n",
       "      <td>9785</td>\n",
       "      <td>17</td>\n",
       "      <td>Male</td>\n",
       "      <td>Summer</td>\n",
       "      <td>Windy</td>\n",
       "      <td>Climbing</td>\n",
       "      <td>Blue Ridge</td>\n",
       "      <td>Intermediate</td>\n",
       "      <td>Beginner</td>\n",
       "      <td>Unknown</td>\n",
       "      <td>Head Injury</td>\n",
       "      <td>10</td>\n",
       "      <td>Yes</td>\n",
       "      <td>4</td>\n",
       "      <td>Critical</td>\n",
       "    </tr>\n",
       "  </tbody>\n",
       "</table>\n",
       "</div>"
      ],
      "text/plain": [
       "   Incident_ID  Customer_ID  Age  Gender  Season Weather      Activity  \\\n",
       "0            0         2679   33    Male  Winter   Foggy        Skiing   \n",
       "1            1         4257   36  Female  Summer   Sunny        Hiking   \n",
       "2            2         7924   47  Female  Winter   Foggy  Snowboarding   \n",
       "3            3         7224   56    Male  Summer   Sunny        Hiking   \n",
       "4            4         9785   17    Male  Summer   Windy      Climbing   \n",
       "\n",
       "     Slope_Name Slope_Difficulty   Skill_Level Protective_Gear     Injuries  \\\n",
       "0    Bunny Hill             Easy      Beginner          Helmet       Sprain   \n",
       "1  Devil’s Drop           Expert      Beginner          Helmet     Fracture   \n",
       "2   Thunder Run         Advanced      Beginner          Helmet       Sprain   \n",
       "3   Thunder Run         Advanced  Intermediate          Helmet     Fracture   \n",
       "4    Blue Ridge     Intermediate      Beginner         Unknown  Head Injury   \n",
       "\n",
       "   Response_Time Hospital_Transport  Hospital_Stay_Length Severity_Category  \n",
       "0             15                 No                     0            Medium  \n",
       "1             23                 No                     0            Medium  \n",
       "2             13                Yes                     1          Critical  \n",
       "3              9                 No                     0            Medium  \n",
       "4             10                Yes                     4          Critical  "
      ]
     },
     "execution_count": 18,
     "metadata": {},
     "output_type": "execute_result"
    }
   ],
   "source": [
    "from pathlib import Path\n",
    "\n",
    "# Build the path to incidents_final.csv relative to the current working directory\n",
    "csv_path = Path.cwd() / 'data' / 'incidents_final.csv'\n",
    "\n",
    "incidents_df = pd.read_csv(csv_path)\n",
    "incidents_df.head()"
   ]
  },
  {
   "cell_type": "code",
   "execution_count": 19,
   "metadata": {},
   "outputs": [
    {
     "data": {
      "text/plain": [
       "Severity_Category\n",
       "Medium      0.523\n",
       "Critical    0.334\n",
       "Light       0.143\n",
       "Name: proportion, dtype: float64"
      ]
     },
     "execution_count": 19,
     "metadata": {},
     "output_type": "execute_result"
    }
   ],
   "source": [
    "incidents_df['Severity_Category'].value_counts(normalize=True)\n"
   ]
  },
  {
   "cell_type": "code",
   "execution_count": 20,
   "metadata": {},
   "outputs": [
    {
     "name": "stdout",
     "output_type": "stream",
     "text": [
      "=== Total Injury Counts by Slope ===\n",
      "      Slope_Name  Total_Injuries\n",
      "0    Summit Peak             174\n",
      "1    Thunder Run             150\n",
      "2     Blue Ridge             143\n",
      "3   Devil’s Drop             141\n",
      "4     Rocky Pass             138\n",
      "5  Shadow Valley             132\n",
      "6     Bunny Hill             122\n"
     ]
    }
   ],
   "source": [
    "# Total incidents (rows) per slope\n",
    "slope_counts = incidents_df[\"Slope_Name\"].value_counts().reset_index()\n",
    "slope_counts.columns = [\"Slope_Name\", \"Total_Injuries\"]\n",
    "\n",
    "# Sort descending\n",
    "slope_counts = slope_counts.sort_values(\"Total_Injuries\", ascending=False).reset_index(drop=True)\n",
    "\n",
    "print(\"=== Total Injury Counts by Slope ===\")\n",
    "print(slope_counts)"
   ]
  },
  {
   "cell_type": "code",
   "execution_count": 27,
   "metadata": {},
   "outputs": [
    {
     "name": "stdout",
     "output_type": "stream",
     "text": [
      "Unique slope names in df:\n",
      "'Bunny Hill'\n",
      "'Devil’s Drop'\n",
      "'Thunder Run'\n",
      "'Blue Ridge'\n",
      "'Summit Peak'\n",
      "'Shadow Valley'\n",
      "'Rocky Pass'\n"
     ]
    }
   ],
   "source": [
    "unique_slopes = incidents_df['Slope_Name'].unique()\n",
    "print(\"Unique slope names in df:\")\n",
    "for slope in unique_slopes:\n",
    "    print(repr(slope))"
   ]
  },
  {
   "cell_type": "code",
   "execution_count": 34,
   "metadata": {},
   "outputs": [
    {
     "name": "stdout",
     "output_type": "stream",
     "text": [
      "(315, 16)\n"
     ]
    }
   ],
   "source": [
    "slopes_of_interest = [\"Devil’s Drop\", \"Summit Peak\"]\n",
    "subset_df = incidents_df[incidents_df[\"Slope_Name\"].isin(slopes_of_interest)] \n",
    "print(subset_df.shape)"
   ]
  },
  {
   "cell_type": "code",
   "execution_count": 35,
   "metadata": {},
   "outputs": [
    {
     "data": {
      "text/plain": [
       "array(['Devil’s Drop', 'Summit Peak'], dtype=object)"
      ]
     },
     "execution_count": 35,
     "metadata": {},
     "output_type": "execute_result"
    }
   ],
   "source": [
    "subset_df[\"Slope_Name\"].unique()"
   ]
  },
  {
   "cell_type": "code",
   "execution_count": 36,
   "metadata": {},
   "outputs": [
    {
     "name": "stdout",
     "output_type": "stream",
     "text": [
      "\n",
      "=== Crosstab: (Slope_Name, Activity) vs. Severity_Category ===\n",
      "Severity_Category             Critical  Light  Medium\n",
      "Slope_Name   Activity                                \n",
      "Devil’s Drop Climbing               22      0       0\n",
      "             Hiking                  6      0      13\n",
      "             Mountain Biking        13      0      12\n",
      "             Skiing                 30      0       8\n",
      "             Snowboarding           37      0       0\n",
      "Summit Peak  Climbing               17      0      12\n",
      "             Hiking                  0      8      14\n",
      "             Mountain Biking         0     12      22\n",
      "             Skiing                 12      6      20\n",
      "             Snowboarding           21      0      30\n"
     ]
    }
   ],
   "source": [
    "# Crosstab: slope & activity vs. severity category\n",
    "crosstab_slope_activity_sev = pd.crosstab(\n",
    "    index=[subset_df[\"Slope_Name\"], subset_df[\"Activity\"]],\n",
    "    columns=subset_df[\"Severity_Category\"]\n",
    ")\n",
    "\n",
    "print(\"\\n=== Crosstab: (Slope_Name, Activity) vs. Severity_Category ===\")\n",
    "print(crosstab_slope_activity_sev)\n"
   ]
  },
  {
   "cell_type": "code",
   "execution_count": 37,
   "metadata": {},
   "outputs": [
    {
     "name": "stdout",
     "output_type": "stream",
     "text": [
      "\n",
      "=== Crosstab: (Slope_Name, Activity) vs. Injuries ===\n",
      "Injuries                      Concussion  Fracture  Head Injury  Sprain\n",
      "Slope_Name   Activity                                                  \n",
      "Devil’s Drop Climbing                  0        13            9       0\n",
      "             Hiking                    0         8            0      11\n",
      "             Mountain Biking           0        11            0      14\n",
      "             Skiing                   13        12            0      13\n",
      "             Snowboarding             11        13            0      13\n",
      "Summit Peak  Climbing                  0        21            8       0\n",
      "             Hiking                    0        13            0       9\n",
      "             Mountain Biking           0        17            0      17\n",
      "             Skiing                   12        10            0      16\n",
      "             Snowboarding             15        17            0      19\n"
     ]
    }
   ],
   "source": [
    "# Crosstab: slope & activity vs. injuries\n",
    "crosstab_slope_activity_inj = pd.crosstab(\n",
    "    index=[subset_df[\"Slope_Name\"], subset_df[\"Activity\"]],\n",
    "    columns=subset_df[\"Injuries\"]\n",
    ")\n",
    "\n",
    "print(\"\\n=== Crosstab: (Slope_Name, Activity) vs. Injuries ===\")\n",
    "print(crosstab_slope_activity_inj)\n"
   ]
  },
  {
   "cell_type": "markdown",
   "metadata": {},
   "source": [
    "#### Operational Implications\n",
    "**1. Snowboarding:**\n",
    "- Highest total incidents (51) and a large share of critical (21).\n",
    "- Mix of concussions (15) and fractures (17) suggests heavy impacts/falls.\n",
    "\n",
    "\n",
    "**2. Climbing:**\n",
    "- Smaller total (29) but extremely high critical fraction (17).\n",
    "- Mostly fractures and head injuries—could be falls or rope mishaps.\n",
    "\n",
    "\n",
    "**3. Skiing:**\n",
    "- Moderate total (38), with 12 critical. Concussions and fractures are common.\n",
    "\n",
    "\n",
    "**4. Mountain Biking & Hiking:**\n",
    "- Zero critical injuries in this data, though fractures & sprains do occur.\n",
    "- Lower priority for “severe outcome” reduction, but still possible to reduce overall incidents via better trail maintenance or beginner instructions."
   ]
  },
  {
   "cell_type": "markdown",
   "metadata": {},
   "source": [
    "#### Conclusion: \n",
    "- Devil’s Drop is a hotspot for extremely high critical rates in Snowboarding, Climbing, and Skiing.\n",
    "- Summit Peak has more total incidents, with Snowboarding leading both total and critical counts, plus moderate severity in Skiing and Climbing."
   ]
  },
  {
   "cell_type": "code",
   "execution_count": null,
   "metadata": {},
   "outputs": [],
   "source": []
  }
 ],
 "metadata": {
  "kernelspec": {
   "display_name": "Python 3",
   "language": "python",
   "name": "python3"
  },
  "language_info": {
   "codemirror_mode": {
    "name": "ipython",
    "version": 3
   },
   "file_extension": ".py",
   "mimetype": "text/x-python",
   "name": "python",
   "nbconvert_exporter": "python",
   "pygments_lexer": "ipython3",
   "version": "3.11.9"
  }
 },
 "nbformat": 4,
 "nbformat_minor": 2
}
